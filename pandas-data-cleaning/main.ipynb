{
 "cells": [
  {
   "cell_type": "markdown",
   "id": "project-title",
   "metadata": {},
   "source": [
    "# Cafe Sales Data Cleaning Project\n",
    "\n",
    "This notebook demonstrates comprehensive data cleaning techniques using pandas on a cafe sales dataset.\n",
    "\n",
    "## Dataset Overview\n",
    "- **Source**: Cafe sales transactions\n",
    "- **Columns**: Transaction ID, Item, Quantity, Price Per Unit, Total Spent, Payment Method, Location, Transaction Date\n",
    "- **Issues**: Missing values, inconsistent data, calculation errors, invalid entries"
   ]
  },
  {
   "cell_type": "code",
   "execution_count": 34,
   "id": "imports",
   "metadata": {},
   "outputs": [],
   "source": [
    "import pandas as pd\n",
    "import numpy as np\n",
    "import matplotlib.pyplot as plt\n",
    "import seaborn as sns\n",
    "from datetime import datetime\n",
    "\n",
    "# Display settings\n",
    "pd.set_option('display.max_columns', None)\n",
    "pd.set_option('display.width', None)"
   ]
  },
  {
   "cell_type": "markdown",
   "id": "load-data",
   "metadata": {},
   "source": [
    "## 1. Load and Explore Data"
   ]
  },
  {
   "cell_type": "code",
   "execution_count": 35,
   "id": "load-dataset",
   "metadata": {},
   "outputs": [
    {
     "name": "stdout",
     "output_type": "stream",
     "text": [
      "Dataset shape: (10000, 8)\n",
      "\n",
      "Column names: ['Transaction ID', 'Item', 'Quantity', 'Price Per Unit', 'Total Spent', 'Payment Method', 'Location', 'Transaction Date']\n"
     ]
    },
    {
     "data": {
      "application/vnd.microsoft.datawrangler.viewer.v0+json": {
       "columns": [
        {
         "name": "index",
         "rawType": "int64",
         "type": "integer"
        },
        {
         "name": "Transaction ID",
         "rawType": "object",
         "type": "string"
        },
        {
         "name": "Item",
         "rawType": "object",
         "type": "string"
        },
        {
         "name": "Quantity",
         "rawType": "object",
         "type": "string"
        },
        {
         "name": "Price Per Unit",
         "rawType": "object",
         "type": "string"
        },
        {
         "name": "Total Spent",
         "rawType": "object",
         "type": "string"
        },
        {
         "name": "Payment Method",
         "rawType": "object",
         "type": "string"
        },
        {
         "name": "Location",
         "rawType": "object",
         "type": "string"
        },
        {
         "name": "Transaction Date",
         "rawType": "object",
         "type": "string"
        }
       ],
       "ref": "9b15bc33-f748-409e-b56c-b5c8d2eca143",
       "rows": [
        [
         "0",
         "TXN_1961373",
         "Coffee",
         "2",
         "2.0",
         "4.0",
         "Credit Card",
         "Takeaway",
         "2023-09-08"
        ],
        [
         "1",
         "TXN_4977031",
         "Cake",
         "4",
         "3.0",
         "12.0",
         "Cash",
         "In-store",
         "2023-05-16"
        ],
        [
         "2",
         "TXN_4271903",
         "Cookie",
         "4",
         "1.0",
         "ERROR",
         "Credit Card",
         "In-store",
         "2023-07-19"
        ],
        [
         "3",
         "TXN_7034554",
         "Salad",
         "2",
         "5.0",
         "10.0",
         "UNKNOWN",
         "UNKNOWN",
         "2023-04-27"
        ],
        [
         "4",
         "TXN_3160411",
         "Coffee",
         "2",
         "2.0",
         "4.0",
         "Digital Wallet",
         "In-store",
         "2023-06-11"
        ]
       ],
       "shape": {
        "columns": 8,
        "rows": 5
       }
      },
      "text/html": [
       "<div>\n",
       "<style scoped>\n",
       "    .dataframe tbody tr th:only-of-type {\n",
       "        vertical-align: middle;\n",
       "    }\n",
       "\n",
       "    .dataframe tbody tr th {\n",
       "        vertical-align: top;\n",
       "    }\n",
       "\n",
       "    .dataframe thead th {\n",
       "        text-align: right;\n",
       "    }\n",
       "</style>\n",
       "<table border=\"1\" class=\"dataframe\">\n",
       "  <thead>\n",
       "    <tr style=\"text-align: right;\">\n",
       "      <th></th>\n",
       "      <th>Transaction ID</th>\n",
       "      <th>Item</th>\n",
       "      <th>Quantity</th>\n",
       "      <th>Price Per Unit</th>\n",
       "      <th>Total Spent</th>\n",
       "      <th>Payment Method</th>\n",
       "      <th>Location</th>\n",
       "      <th>Transaction Date</th>\n",
       "    </tr>\n",
       "  </thead>\n",
       "  <tbody>\n",
       "    <tr>\n",
       "      <th>0</th>\n",
       "      <td>TXN_1961373</td>\n",
       "      <td>Coffee</td>\n",
       "      <td>2</td>\n",
       "      <td>2.0</td>\n",
       "      <td>4.0</td>\n",
       "      <td>Credit Card</td>\n",
       "      <td>Takeaway</td>\n",
       "      <td>2023-09-08</td>\n",
       "    </tr>\n",
       "    <tr>\n",
       "      <th>1</th>\n",
       "      <td>TXN_4977031</td>\n",
       "      <td>Cake</td>\n",
       "      <td>4</td>\n",
       "      <td>3.0</td>\n",
       "      <td>12.0</td>\n",
       "      <td>Cash</td>\n",
       "      <td>In-store</td>\n",
       "      <td>2023-05-16</td>\n",
       "    </tr>\n",
       "    <tr>\n",
       "      <th>2</th>\n",
       "      <td>TXN_4271903</td>\n",
       "      <td>Cookie</td>\n",
       "      <td>4</td>\n",
       "      <td>1.0</td>\n",
       "      <td>ERROR</td>\n",
       "      <td>Credit Card</td>\n",
       "      <td>In-store</td>\n",
       "      <td>2023-07-19</td>\n",
       "    </tr>\n",
       "    <tr>\n",
       "      <th>3</th>\n",
       "      <td>TXN_7034554</td>\n",
       "      <td>Salad</td>\n",
       "      <td>2</td>\n",
       "      <td>5.0</td>\n",
       "      <td>10.0</td>\n",
       "      <td>UNKNOWN</td>\n",
       "      <td>UNKNOWN</td>\n",
       "      <td>2023-04-27</td>\n",
       "    </tr>\n",
       "    <tr>\n",
       "      <th>4</th>\n",
       "      <td>TXN_3160411</td>\n",
       "      <td>Coffee</td>\n",
       "      <td>2</td>\n",
       "      <td>2.0</td>\n",
       "      <td>4.0</td>\n",
       "      <td>Digital Wallet</td>\n",
       "      <td>In-store</td>\n",
       "      <td>2023-06-11</td>\n",
       "    </tr>\n",
       "  </tbody>\n",
       "</table>\n",
       "</div>"
      ],
      "text/plain": [
       "  Transaction ID    Item Quantity Price Per Unit Total Spent  Payment Method  \\\n",
       "0    TXN_1961373  Coffee        2            2.0         4.0     Credit Card   \n",
       "1    TXN_4977031    Cake        4            3.0        12.0            Cash   \n",
       "2    TXN_4271903  Cookie        4            1.0       ERROR     Credit Card   \n",
       "3    TXN_7034554   Salad        2            5.0        10.0         UNKNOWN   \n",
       "4    TXN_3160411  Coffee        2            2.0         4.0  Digital Wallet   \n",
       "\n",
       "   Location Transaction Date  \n",
       "0  Takeaway       2023-09-08  \n",
       "1  In-store       2023-05-16  \n",
       "2  In-store       2023-07-19  \n",
       "3   UNKNOWN       2023-04-27  \n",
       "4  In-store       2023-06-11  "
      ]
     },
     "execution_count": 35,
     "metadata": {},
     "output_type": "execute_result"
    }
   ],
   "source": [
    "# Load the dataset\n",
    "df = pd.read_csv('dirty_cafe_sales.csv')\n",
    "\n",
    "print(f\"Dataset shape: {df.shape}\")\n",
    "print(f\"\\nColumn names: {list(df.columns)}\")\n",
    "df.head()"
   ]
  },
  {
   "cell_type": "code",
   "execution_count": 36,
   "id": "data-info",
   "metadata": {},
   "outputs": [
    {
     "name": "stdout",
     "output_type": "stream",
     "text": [
      "Data Types:\n",
      "Transaction ID      object\n",
      "Item                object\n",
      "Quantity            object\n",
      "Price Per Unit      object\n",
      "Total Spent         object\n",
      "Payment Method      object\n",
      "Location            object\n",
      "Transaction Date    object\n",
      "dtype: object\n",
      "\n",
      "Dataset Info:\n",
      "<class 'pandas.core.frame.DataFrame'>\n",
      "RangeIndex: 10000 entries, 0 to 9999\n",
      "Data columns (total 8 columns):\n",
      " #   Column            Non-Null Count  Dtype \n",
      "---  ------            --------------  ----- \n",
      " 0   Transaction ID    10000 non-null  object\n",
      " 1   Item              9667 non-null   object\n",
      " 2   Quantity          9862 non-null   object\n",
      " 3   Price Per Unit    9821 non-null   object\n",
      " 4   Total Spent       9827 non-null   object\n",
      " 5   Payment Method    7421 non-null   object\n",
      " 6   Location          6735 non-null   object\n",
      " 7   Transaction Date  9841 non-null   object\n",
      "dtypes: object(8)\n",
      "memory usage: 625.1+ KB\n"
     ]
    }
   ],
   "source": [
    "# Basic information about the dataset\n",
    "print(\"Data Types:\")\n",
    "print(df.dtypes)\n",
    "print(\"\\nDataset Info:\")\n",
    "df.info()"
   ]
  },
  {
   "cell_type": "markdown",
   "id": "identify-issues",
   "metadata": {},
   "source": [
    "## 2. Identify Data Quality Issues"
   ]
  },
  {
   "cell_type": "code",
   "execution_count": 37,
   "id": "missing-values",
   "metadata": {},
   "outputs": [
    {
     "name": "stdout",
     "output_type": "stream",
     "text": [
      "Missing Values:\n",
      "Transaction ID         0\n",
      "Item                 333\n",
      "Quantity             138\n",
      "Price Per Unit       179\n",
      "Total Spent          173\n",
      "Payment Method      2579\n",
      "Location            3265\n",
      "Transaction Date     159\n",
      "dtype: int64\n",
      "\n",
      "Empty String Values:\n",
      "Series([], dtype: int64)\n",
      "\n",
      "ERROR/UNKNOWN Values:\n",
      "Item: 636 ERROR/UNKNOWN values\n",
      "Quantity: 341 ERROR/UNKNOWN values\n",
      "Price Per Unit: 354 ERROR/UNKNOWN values\n",
      "Total Spent: 329 ERROR/UNKNOWN values\n",
      "Payment Method: 599 ERROR/UNKNOWN values\n",
      "Location: 696 ERROR/UNKNOWN values\n",
      "Transaction Date: 301 ERROR/UNKNOWN values\n"
     ]
    }
   ],
   "source": [
    "# Check for missing values and problematic entries\n",
    "print(\"Missing Values:\")\n",
    "print(df.isnull().sum())\n",
    "\n",
    "print(\"\\nEmpty String Values:\")\n",
    "empty_counts = (df == '').sum()\n",
    "print(empty_counts[empty_counts > 0])\n",
    "\n",
    "print(\"\\nERROR/UNKNOWN Values:\")\n",
    "for col in df.columns:\n",
    "    error_count = df[col].astype(str).str.contains('ERROR|UNKNOWN', na=False).sum()\n",
    "    if error_count > 0:\n",
    "        print(f\"{col}: {error_count} ERROR/UNKNOWN values\")"
   ]
  },
  {
   "cell_type": "code",
   "execution_count": 38,
   "id": "unique-values",
   "metadata": {},
   "outputs": [
    {
     "name": "stdout",
     "output_type": "stream",
     "text": [
      "\n",
      "Item unique values:\n",
      "Item\n",
      "Juice       1171\n",
      "Coffee      1165\n",
      "Salad       1148\n",
      "Cake        1139\n",
      "Sandwich    1131\n",
      "Smoothie    1096\n",
      "Cookie      1092\n",
      "Tea         1089\n",
      "UNKNOWN      344\n",
      "NaN          333\n",
      "ERROR        292\n",
      "Name: count, dtype: int64\n",
      "\n",
      "Payment Method unique values:\n",
      "Payment Method\n",
      "NaN               2579\n",
      "Digital Wallet    2291\n",
      "Credit Card       2273\n",
      "Cash              2258\n",
      "ERROR              306\n",
      "UNKNOWN            293\n",
      "Name: count, dtype: int64\n",
      "\n",
      "Location unique values:\n",
      "Location\n",
      "NaN         3265\n",
      "Takeaway    3022\n",
      "In-store    3017\n",
      "ERROR        358\n",
      "UNKNOWN      338\n",
      "Name: count, dtype: int64\n"
     ]
    }
   ],
   "source": [
    "# Examine unique values in categorical columns\n",
    "categorical_cols = ['Item', 'Payment Method', 'Location']\n",
    "\n",
    "for col in categorical_cols:\n",
    "    print(f\"\\n{col} unique values:\")\n",
    "    print(df[col].value_counts(dropna=False))"
   ]
  },
  {
   "cell_type": "markdown",
   "id": "clean-data",
   "metadata": {},
   "source": [
    "## 3. Data Cleaning Process"
   ]
  },
  {
   "cell_type": "code",
   "execution_count": 39,
   "id": "create-clean-copy",
   "metadata": {},
   "outputs": [
    {
     "name": "stdout",
     "output_type": "stream",
     "text": [
      "Starting with 10000 records\n"
     ]
    }
   ],
   "source": [
    "# Create a copy for cleaning\n",
    "df_clean = df.copy()\n",
    "print(f\"Starting with {len(df_clean)} records\")"
   ]
  },
  {
   "cell_type": "code",
   "execution_count": 40,
   "id": "clean-categorical",
   "metadata": {},
   "outputs": [
    {
     "name": "stdout",
     "output_type": "stream",
     "text": [
      "After removing missing items: 9031 records\n"
     ]
    }
   ],
   "source": [
    "# Clean categorical columns\n",
    "\n",
    "# Replace empty strings with NaN\n",
    "df_clean = df_clean.replace('', np.nan)\n",
    "\n",
    "# Handle ERROR and UNKNOWN values\n",
    "df_clean = df_clean.replace(['ERROR', 'UNKNOWN'], np.nan)\n",
    "\n",
    "# Remove rows where Item is missing (core business data)\n",
    "df_clean = df_clean.dropna(subset=['Item'])\n",
    "\n",
    "print(f\"After removing missing items: {len(df_clean)} records\")"
   ]
  },
  {
   "cell_type": "code",
   "execution_count": 41,
   "id": "clean-numeric",
   "metadata": {},
   "outputs": [
    {
     "name": "stdout",
     "output_type": "stream",
     "text": [
      "After cleaning numeric columns: 8147 records\n"
     ]
    }
   ],
   "source": [
    "# Clean numeric columns\n",
    "numeric_cols = ['Quantity', 'Price Per Unit', 'Total Spent']\n",
    "\n",
    "for col in numeric_cols:\n",
    "    # Convert to numeric, errors become NaN\n",
    "    df_clean[col] = pd.to_numeric(df_clean[col], errors='coerce')\n",
    "\n",
    "# Remove rows with missing critical numeric data\n",
    "df_clean = df_clean.dropna(subset=['Quantity', 'Price Per Unit'])\n",
    "\n",
    "print(f\"After cleaning numeric columns: {len(df_clean)} records\")"
   ]
  },
  {
   "cell_type": "code",
   "execution_count": 42,
   "id": "fix-calculations",
   "metadata": {},
   "outputs": [
    {
     "name": "stdout",
     "output_type": "stream",
     "text": [
      "Found 0 calculation discrepancies\n"
     ]
    }
   ],
   "source": [
    "# Fix calculation errors in Total Spent\n",
    "df_clean['Calculated Total'] = df_clean['Quantity'] * df_clean['Price Per Unit']\n",
    "\n",
    "# Identify discrepancies\n",
    "tolerance = 0.01\n",
    "discrepancies = abs(df_clean['Total Spent'] - df_clean['Calculated Total']) > tolerance\n",
    "\n",
    "print(f\"Found {discrepancies.sum()} calculation discrepancies\")\n",
    "\n",
    "# Use calculated total where original is missing or incorrect\n",
    "df_clean.loc[df_clean['Total Spent'].isna() | discrepancies, 'Total Spent'] = df_clean['Calculated Total']\n",
    "\n",
    "# Drop the helper column\n",
    "df_clean = df_clean.drop('Calculated Total', axis=1)"
   ]
  },
  {
   "cell_type": "code",
   "execution_count": 43,
   "id": "clean-dates",
   "metadata": {},
   "outputs": [
    {
     "name": "stdout",
     "output_type": "stream",
     "text": [
      "After cleaning dates: 7773 records\n"
     ]
    }
   ],
   "source": [
    "# Clean Transaction Date\n",
    "df_clean['Transaction Date'] = pd.to_datetime(df_clean['Transaction Date'], errors='coerce')\n",
    "\n",
    "# Remove rows with invalid dates\n",
    "df_clean = df_clean.dropna(subset=['Transaction Date'])\n",
    "\n",
    "print(f\"After cleaning dates: {len(df_clean)} records\")"
   ]
  },
  {
   "cell_type": "code",
   "execution_count": 44,
   "id": "handle-missing",
   "metadata": {},
   "outputs": [
    {
     "name": "stdout",
     "output_type": "stream",
     "text": [
      "Final dataset: 7773 records\n",
      "Removed 2227 records (22.3%)\n"
     ]
    }
   ],
   "source": [
    "# Handle remaining missing values\n",
    "\n",
    "# Fill missing Payment Method with most common value\n",
    "most_common_payment = df_clean['Payment Method'].mode()[0]\n",
    "df_clean['Payment Method'] = df_clean['Payment Method'].fillna(most_common_payment)\n",
    "\n",
    "# Fill missing Location with most common value\n",
    "most_common_location = df_clean['Location'].mode()[0]\n",
    "df_clean['Location'] = df_clean['Location'].fillna(most_common_location)\n",
    "\n",
    "print(f\"Final dataset: {len(df_clean)} records\")\n",
    "print(f\"Removed {len(df) - len(df_clean)} records ({((len(df) - len(df_clean))/len(df)*100):.1f}%)\")"
   ]
  },
  {
   "cell_type": "markdown",
   "id": "validate-results",
   "metadata": {},
   "source": [
    "## 4. Validate Cleaned Data"
   ]
  },
  {
   "cell_type": "code",
   "execution_count": 45,
   "id": "validation-checks",
   "metadata": {},
   "outputs": [
    {
     "name": "stdout",
     "output_type": "stream",
     "text": [
      "Data Quality Validation:\n",
      "Missing values: 0\n",
      "Negative quantities: 0\n",
      "Negative prices: 0\n",
      "Invalid dates: 0\n",
      "Calculation errors: 0\n",
      "\n",
      "Data Types After Cleaning:\n",
      "Transaction ID              object\n",
      "Item                        object\n",
      "Quantity                   float64\n",
      "Price Per Unit             float64\n",
      "Total Spent                float64\n",
      "Payment Method              object\n",
      "Location                    object\n",
      "Transaction Date    datetime64[ns]\n",
      "dtype: object\n"
     ]
    }
   ],
   "source": [
    "# Validation checks\n",
    "print(\"Data Quality Validation:\")\n",
    "print(f\"Missing values: {df_clean.isnull().sum().sum()}\")\n",
    "print(f\"Negative quantities: {(df_clean['Quantity'] < 0).sum()}\")\n",
    "print(f\"Negative prices: {(df_clean['Price Per Unit'] < 0).sum()}\")\n",
    "print(f\"Invalid dates: {df_clean['Transaction Date'].isnull().sum()}\")\n",
    "\n",
    "# Check calculation accuracy\n",
    "calc_check = abs(df_clean['Total Spent'] - (df_clean['Quantity'] * df_clean['Price Per Unit'])) > 0.01\n",
    "print(f\"Calculation errors: {calc_check.sum()}\")\n",
    "\n",
    "print(\"\\nData Types After Cleaning:\")\n",
    "print(df_clean.dtypes)"
   ]
  },
  {
   "cell_type": "code",
   "execution_count": 46,
   "id": "summary-stats",
   "metadata": {},
   "outputs": [
    {
     "name": "stdout",
     "output_type": "stream",
     "text": [
      "Cleaned Data Summary:\n"
     ]
    },
    {
     "data": {
      "application/vnd.microsoft.datawrangler.viewer.v0+json": {
       "columns": [
        {
         "name": "index",
         "rawType": "object",
         "type": "string"
        },
        {
         "name": "Quantity",
         "rawType": "float64",
         "type": "float"
        },
        {
         "name": "Price Per Unit",
         "rawType": "float64",
         "type": "float"
        },
        {
         "name": "Total Spent",
         "rawType": "float64",
         "type": "float"
        },
        {
         "name": "Transaction Date",
         "rawType": "object",
         "type": "unknown"
        }
       ],
       "ref": "76adecfc-7cc8-4246-8702-00a33448af28",
       "rows": [
        [
         "count",
         "7773.0",
         "7773.0",
         "7773.0",
         "7773"
        ],
        [
         "mean",
         "3.0239289849478967",
         "2.954071786954844",
         "8.935932072558858",
         "2023-07-02 00:53:32.350444032"
        ],
        [
         "min",
         "1.0",
         "1.0",
         "1.0",
         "2023-01-01 00:00:00"
        ],
        [
         "25%",
         "2.0",
         "2.0",
         "4.0",
         "2023-04-01 00:00:00"
        ],
        [
         "50%",
         "3.0",
         "3.0",
         "8.0",
         "2023-07-02 00:00:00"
        ],
        [
         "75%",
         "4.0",
         "4.0",
         "12.0",
         "2023-10-02 00:00:00"
        ],
        [
         "max",
         "5.0",
         "5.0",
         "25.0",
         "2023-12-31 00:00:00"
        ],
        [
         "std",
         "1.420185214447315",
         "1.2751385556365427",
         "5.989322870084455",
         null
        ]
       ],
       "shape": {
        "columns": 4,
        "rows": 8
       }
      },
      "text/html": [
       "<div>\n",
       "<style scoped>\n",
       "    .dataframe tbody tr th:only-of-type {\n",
       "        vertical-align: middle;\n",
       "    }\n",
       "\n",
       "    .dataframe tbody tr th {\n",
       "        vertical-align: top;\n",
       "    }\n",
       "\n",
       "    .dataframe thead th {\n",
       "        text-align: right;\n",
       "    }\n",
       "</style>\n",
       "<table border=\"1\" class=\"dataframe\">\n",
       "  <thead>\n",
       "    <tr style=\"text-align: right;\">\n",
       "      <th></th>\n",
       "      <th>Quantity</th>\n",
       "      <th>Price Per Unit</th>\n",
       "      <th>Total Spent</th>\n",
       "      <th>Transaction Date</th>\n",
       "    </tr>\n",
       "  </thead>\n",
       "  <tbody>\n",
       "    <tr>\n",
       "      <th>count</th>\n",
       "      <td>7773.000000</td>\n",
       "      <td>7773.000000</td>\n",
       "      <td>7773.000000</td>\n",
       "      <td>7773</td>\n",
       "    </tr>\n",
       "    <tr>\n",
       "      <th>mean</th>\n",
       "      <td>3.023929</td>\n",
       "      <td>2.954072</td>\n",
       "      <td>8.935932</td>\n",
       "      <td>2023-07-02 00:53:32.350444032</td>\n",
       "    </tr>\n",
       "    <tr>\n",
       "      <th>min</th>\n",
       "      <td>1.000000</td>\n",
       "      <td>1.000000</td>\n",
       "      <td>1.000000</td>\n",
       "      <td>2023-01-01 00:00:00</td>\n",
       "    </tr>\n",
       "    <tr>\n",
       "      <th>25%</th>\n",
       "      <td>2.000000</td>\n",
       "      <td>2.000000</td>\n",
       "      <td>4.000000</td>\n",
       "      <td>2023-04-01 00:00:00</td>\n",
       "    </tr>\n",
       "    <tr>\n",
       "      <th>50%</th>\n",
       "      <td>3.000000</td>\n",
       "      <td>3.000000</td>\n",
       "      <td>8.000000</td>\n",
       "      <td>2023-07-02 00:00:00</td>\n",
       "    </tr>\n",
       "    <tr>\n",
       "      <th>75%</th>\n",
       "      <td>4.000000</td>\n",
       "      <td>4.000000</td>\n",
       "      <td>12.000000</td>\n",
       "      <td>2023-10-02 00:00:00</td>\n",
       "    </tr>\n",
       "    <tr>\n",
       "      <th>max</th>\n",
       "      <td>5.000000</td>\n",
       "      <td>5.000000</td>\n",
       "      <td>25.000000</td>\n",
       "      <td>2023-12-31 00:00:00</td>\n",
       "    </tr>\n",
       "    <tr>\n",
       "      <th>std</th>\n",
       "      <td>1.420185</td>\n",
       "      <td>1.275139</td>\n",
       "      <td>5.989323</td>\n",
       "      <td>NaN</td>\n",
       "    </tr>\n",
       "  </tbody>\n",
       "</table>\n",
       "</div>"
      ],
      "text/plain": [
       "          Quantity  Price Per Unit  Total Spent               Transaction Date\n",
       "count  7773.000000     7773.000000  7773.000000                           7773\n",
       "mean      3.023929        2.954072     8.935932  2023-07-02 00:53:32.350444032\n",
       "min       1.000000        1.000000     1.000000            2023-01-01 00:00:00\n",
       "25%       2.000000        2.000000     4.000000            2023-04-01 00:00:00\n",
       "50%       3.000000        3.000000     8.000000            2023-07-02 00:00:00\n",
       "75%       4.000000        4.000000    12.000000            2023-10-02 00:00:00\n",
       "max       5.000000        5.000000    25.000000            2023-12-31 00:00:00\n",
       "std       1.420185        1.275139     5.989323                            NaN"
      ]
     },
     "execution_count": 46,
     "metadata": {},
     "output_type": "execute_result"
    }
   ],
   "source": [
    "# Summary statistics\n",
    "print(\"Cleaned Data Summary:\")\n",
    "df_clean.describe()"
   ]
  },
  {
   "cell_type": "markdown",
   "id": "analysis",
   "metadata": {},
   "source": [
    "## 5. Basic Analysis of Cleaned Data"
   ]
  },
  {
   "cell_type": "code",
   "execution_count": 47,
   "id": "business-insights",
   "metadata": {},
   "outputs": [
    {
     "name": "stdout",
     "output_type": "stream",
     "text": [
      "Top 5 Items by Sales Volume:\n",
      "Item\n",
      "Juice       1020\n",
      "Coffee      1012\n",
      "Cake         989\n",
      "Salad        985\n",
      "Sandwich     969\n",
      "Name: count, dtype: int64\n",
      "\n",
      "Payment Method Distribution:\n",
      "Payment Method\n",
      "Digital Wallet    4238\n",
      "Cash              1774\n",
      "Credit Card       1761\n",
      "Name: count, dtype: int64\n",
      "\n",
      "Location Distribution:\n",
      "Location\n",
      "In-store    5441\n",
      "Takeaway    2332\n",
      "Name: count, dtype: int64\n",
      "\n",
      "Total Revenue: $69459.00\n",
      "Average Transaction: $8.94\n"
     ]
    }
   ],
   "source": [
    "# Business insights from cleaned data\n",
    "print(\"Top 5 Items by Sales Volume:\")\n",
    "print(df_clean['Item'].value_counts().head())\n",
    "\n",
    "print(\"\\nPayment Method Distribution:\")\n",
    "print(df_clean['Payment Method'].value_counts())\n",
    "\n",
    "print(\"\\nLocation Distribution:\")\n",
    "print(df_clean['Location'].value_counts())\n",
    "\n",
    "print(f\"\\nTotal Revenue: ${df_clean['Total Spent'].sum():.2f}\")\n",
    "print(f\"Average Transaction: ${df_clean['Total Spent'].mean():.2f}\")"
   ]
  },
  {
   "cell_type": "code",
   "execution_count": 48,
   "id": "visualizations",
   "metadata": {},
   "outputs": [
    {
     "data": {
      "image/png": "[encoded data removed]",
      "text/plain": [
       "<Figure size 1500x1000 with 4 Axes>"
      ]
     },
     "metadata": {},
     "output_type": "display_data"
    }
   ],
   "source": [
    "# Create visualizations\n",
    "fig, axes = plt.subplots(2, 2, figsize=(15, 10))\n",
    "\n",
    "# Item sales distribution\n",
    "df_clean['Item'].value_counts().plot(kind='bar', ax=axes[0,0])\n",
    "axes[0,0].set_title('Items Sold')\n",
    "axes[0,0].tick_params(axis='x', rotation=45)\n",
    "\n",
    "# Payment method distribution\n",
    "df_clean['Payment Method'].value_counts().plot(kind='pie', ax=axes[0,1], autopct='%1.1f%%')\n",
    "axes[0,1].set_title('Payment Methods')\n",
    "\n",
    "# Revenue by month\n",
    "monthly_revenue = df_clean.groupby(df_clean['Transaction Date'].dt.to_period('M'))['Total Spent'].sum()\n",
    "monthly_revenue.plot(kind='line', ax=axes[1,0])\n",
    "axes[1,0].set_title('Monthly Revenue Trend')\n",
    "axes[1,0].tick_params(axis='x', rotation=45)\n",
    "\n",
    "# Transaction amount distribution\n",
    "df_clean['Total Spent'].hist(bins=20, ax=axes[1,1])\n",
    "axes[1,1].set_title('Transaction Amount Distribution')\n",
    "axes[1,1].set_xlabel('Amount ($)')\n",
    "\n",
    "plt.tight_layout()\n",
    "plt.show()"
   ]
  },
  {
   "cell_type": "markdown",
   "id": "export-data",
   "metadata": {},
   "source": [
    "## 6. Export Cleaned Data"
   ]
  },
  {
   "cell_type": "code",
   "execution_count": 49,
   "id": "save-clean-data",
   "metadata": {},
   "outputs": [
    {
     "name": "stdout",
     "output_type": "stream",
     "text": [
      "Cleaned dataset saved with 7773 records\n",
      "\n",
      "Final cleaned data sample:\n"
     ]
    },
    {
     "data": {
      "application/vnd.microsoft.datawrangler.viewer.v0+json": {
       "columns": [
        {
         "name": "index",
         "rawType": "int64",
         "type": "integer"
        },
        {
         "name": "Transaction ID",
         "rawType": "object",
         "type": "string"
        },
        {
         "name": "Item",
         "rawType": "object",
         "type": "string"
        },
        {
         "name": "Quantity",
         "rawType": "float64",
         "type": "float"
        },
        {
         "name": "Price Per Unit",
         "rawType": "float64",
         "type": "float"
        },
        {
         "name": "Total Spent",
         "rawType": "float64",
         "type": "float"
        },
        {
         "name": "Payment Method",
         "rawType": "object",
         "type": "string"
        },
        {
         "name": "Location",
         "rawType": "object",
         "type": "string"
        },
        {
         "name": "Transaction Date",
         "rawType": "datetime64[ns]",
         "type": "datetime"
        }
       ],
       "ref": "bda18d22-1094-4a79-be0b-75acbeccac48",
       "rows": [
        [
         "0",
         "TXN_1961373",
         "Coffee",
         "2.0",
         "2.0",
         "4.0",
         "Credit Card",
         "Takeaway",
         "2023-09-08 00:00:00"
        ],
        [
         "1",
         "TXN_4977031",
         "Cake",
         "4.0",
         "3.0",
         "12.0",
         "Cash",
         "In-store",
         "2023-05-16 00:00:00"
        ],
        [
         "2",
         "TXN_4271903",
         "Cookie",
         "4.0",
         "1.0",
         "4.0",
         "Credit Card",
         "In-store",
         "2023-07-19 00:00:00"
        ],
        [
         "3",
         "TXN_7034554",
         "Salad",
         "2.0",
         "5.0",
         "10.0",
         "Digital Wallet",
         "In-store",
         "2023-04-27 00:00:00"
        ],
        [
         "4",
         "TXN_3160411",
         "Coffee",
         "2.0",
         "2.0",
         "4.0",
         "Digital Wallet",
         "In-store",
         "2023-06-11 00:00:00"
        ]
       ],
       "shape": {
        "columns": 8,
        "rows": 5
       }
      },
      "text/html": [
       "<div>\n",
       "<style scoped>\n",
       "    .dataframe tbody tr th:only-of-type {\n",
       "        vertical-align: middle;\n",
       "    }\n",
       "\n",
       "    .dataframe tbody tr th {\n",
       "        vertical-align: top;\n",
       "    }\n",
       "\n",
       "    .dataframe thead th {\n",
       "        text-align: right;\n",
       "    }\n",
       "</style>\n",
       "<table border=\"1\" class=\"dataframe\">\n",
       "  <thead>\n",
       "    <tr style=\"text-align: right;\">\n",
       "      <th></th>\n",
       "      <th>Transaction ID</th>\n",
       "      <th>Item</th>\n",
       "      <th>Quantity</th>\n",
       "      <th>Price Per Unit</th>\n",
       "      <th>Total Spent</th>\n",
       "      <th>Payment Method</th>\n",
       "      <th>Location</th>\n",
       "      <th>Transaction Date</th>\n",
       "    </tr>\n",
       "  </thead>\n",
       "  <tbody>\n",
       "    <tr>\n",
       "      <th>0</th>\n",
       "      <td>TXN_1961373</td>\n",
       "      <td>Coffee</td>\n",
       "      <td>2.0</td>\n",
       "      <td>2.0</td>\n",
       "      <td>4.0</td>\n",
       "      <td>Credit Card</td>\n",
       "      <td>Takeaway</td>\n",
       "      <td>2023-09-08</td>\n",
       "    </tr>\n",
       "    <tr>\n",
       "      <th>1</th>\n",
       "      <td>TXN_4977031</td>\n",
       "      <td>Cake</td>\n",
       "      <td>4.0</td>\n",
       "      <td>3.0</td>\n",
       "      <td>12.0</td>\n",
       "      <td>Cash</td>\n",
       "      <td>In-store</td>\n",
       "      <td>2023-05-16</td>\n",
       "    </tr>\n",
       "    <tr>\n",
       "      <th>2</th>\n",
       "      <td>TXN_4271903</td>\n",
       "      <td>Cookie</td>\n",
       "      <td>4.0</td>\n",
       "      <td>1.0</td>\n",
       "      <td>4.0</td>\n",
       "      <td>Credit Card</td>\n",
       "      <td>In-store</td>\n",
       "      <td>2023-07-19</td>\n",
       "    </tr>\n",
       "    <tr>\n",
       "      <th>3</th>\n",
       "      <td>TXN_7034554</td>\n",
       "      <td>Salad</td>\n",
       "      <td>2.0</td>\n",
       "      <td>5.0</td>\n",
       "      <td>10.0</td>\n",
       "      <td>Digital Wallet</td>\n",
       "      <td>In-store</td>\n",
       "      <td>2023-04-27</td>\n",
       "    </tr>\n",
       "    <tr>\n",
       "      <th>4</th>\n",
       "      <td>TXN_3160411</td>\n",
       "      <td>Coffee</td>\n",
       "      <td>2.0</td>\n",
       "      <td>2.0</td>\n",
       "      <td>4.0</td>\n",
       "      <td>Digital Wallet</td>\n",
       "      <td>In-store</td>\n",
       "      <td>2023-06-11</td>\n",
       "    </tr>\n",
       "  </tbody>\n",
       "</table>\n",
       "</div>"
      ],
      "text/plain": [
       "  Transaction ID    Item  Quantity  Price Per Unit  Total Spent  \\\n",
       "0    TXN_1961373  Coffee       2.0             2.0          4.0   \n",
       "1    TXN_4977031    Cake       4.0             3.0         12.0   \n",
       "2    TXN_4271903  Cookie       4.0             1.0          4.0   \n",
       "3    TXN_7034554   Salad       2.0             5.0         10.0   \n",
       "4    TXN_3160411  Coffee       2.0             2.0          4.0   \n",
       "\n",
       "   Payment Method  Location Transaction Date  \n",
       "0     Credit Card  Takeaway       2023-09-08  \n",
       "1            Cash  In-store       2023-05-16  \n",
       "2     Credit Card  In-store       2023-07-19  \n",
       "3  Digital Wallet  In-store       2023-04-27  \n",
       "4  Digital Wallet  In-store       2023-06-11  "
      ]
     },
     "execution_count": 49,
     "metadata": {},
     "output_type": "execute_result"
    }
   ],
   "source": [
    "# Save cleaned dataset\n",
    "df_clean.to_csv('clean_cafe_sales.csv', index=False)\n",
    "print(f\"Cleaned dataset saved with {len(df_clean)} records\")\n",
    "\n",
    "# Display final sample\n",
    "print(\"\\nFinal cleaned data sample:\")\n",
    "df_clean.head()"
   ]
  },
  {
   "cell_type": "markdown",
   "id": "summary",
   "metadata": {},
   "source": [
    "## Summary\n",
    "\n",
    "### Data Cleaning Steps Performed:\n",
    "1. **Missing Values**: Replaced empty strings with NaN, removed records with missing core data\n",
    "2. **Invalid Entries**: Cleaned ERROR/UNKNOWN values in categorical columns\n",
    "3. **Numeric Data**: Converted to proper numeric types, handled calculation errors\n",
    "4. **Date Validation**: Converted to datetime format, removed invalid dates\n",
    "5. **Imputation**: Filled remaining missing values with mode for categorical data\n",
    "\n",
    "The dataset is now ready for advanced analytics, reporting, and ML applications."
   ]
  }
 ],
 "metadata": {
  "kernelspec": {
   "display_name": "base",
   "language": "python",
   "name": "python3"
  },
  "language_info": {
   "codemirror_mode": {
    "name": "ipython",
    "version": 3
   },
   "file_extension": ".py",
   "mimetype": "text/x-python",
   "name": "python",
   "nbconvert_exporter": "python",
   "pygments_lexer": "ipython3",
   "version": "3.13.5"
  }
 },
 "nbformat": 4,
 "nbformat_minor": 5
}
